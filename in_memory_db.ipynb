{
 "cells": [
  {
   "cell_type": "code",
   "execution_count": 1,
   "metadata": {},
   "outputs": [
    {
     "name": "stdout",
     "output_type": "stream",
     "text": [
      "A does not exist\n",
      "A does not exist\n",
      "A = 5\n"
     ]
    }
   ],
   "source": [
    "from in_memory_db import InMemoryDB\n",
    "\n",
    "# Test 1: Basic get and put\n",
    "db = InMemoryDB()\n",
    "\n",
    "# Test get method\n",
    "print(db.get(\"A\"))  # Should output None\n",
    "\n",
    "# Begin a transaction\n",
    "db.begin_transaction()\n",
    "\n",
    "# Put a value\n",
    "db.put(\"A\", 5)\n",
    "\n",
    "# Get the value before commit\n",
    "print(db.get(\"A\"))  # Should still output None\n",
    "\n",
    "# Commit the transaction\n",
    "db.commit()\n",
    "\n",
    "# Get the value after commit\n",
    "print(db.get(\"A\"))  # Should output 5\n"
   ]
  },
  {
   "cell_type": "code",
   "execution_count": 2,
   "metadata": {},
   "outputs": [
    {
     "name": "stdout",
     "output_type": "stream",
     "text": [
      "A does not exist\n",
      "A does not exist\n",
      "B does not exist\n"
     ]
    }
   ],
   "source": [
    "from in_memory_db import InMemoryDB\n",
    "\n",
    "#Test 2\n",
    "\n",
    "# Create a new instance of the database for this test\n",
    "db = InMemoryDB()\n",
    "\n",
    "# Step 1: Begin a transaction\n",
    "db.begin_transaction()\n",
    "\n",
    "# Step 2: Put a value for 'A'\n",
    "db.put(\"A\", 10)\n",
    "\n",
    "# Step 3: Verify the value is not yet committed\n",
    "print(db.get(\"A\"))  # Should output None\n",
    "\n",
    "# Step 4: Rollback the transaction\n",
    "db.rollback()\n",
    "\n",
    "# Step 5: Verify the rollback discards the change\n",
    "print(db.get(\"A\"))  # Should output None, since the transaction was rolled back\n",
    "\n",
    "# Step 6: Ensure the database remains clean\n",
    "print(db.get(\"B\"))  # Should also output None, as no changes were made\n"
   ]
  },
  {
   "cell_type": "code",
   "execution_count": 3,
   "metadata": {},
   "outputs": [
    {
     "name": "stdout",
     "output_type": "stream",
     "text": [
      "A does not exist\n",
      "Error: No active transaction\n",
      "A does not exist\n",
      "A = 6\n",
      "Error: No active transaction to commit\n",
      "Error: No active transaction\n",
      "B does not exist\n",
      "B does not exist\n"
     ]
    }
   ],
   "source": [
    "# Test 3\n",
    "from in_memory_db import InMemoryDB\n",
    "\n",
    "# Create a new instance of the database\n",
    "db = InMemoryDB()\n",
    "\n",
    "# 1. Should return None, because 'A' doesn't exist in the DB yet\n",
    "print(db.get(\"A\"))  # Output: None\n",
    "\n",
    "try:\n",
    "    # 2. Should throw an error because a transaction is not in progress\n",
    "    db.put(\"A\", 5)\n",
    "except Exception as e:\n",
    "    print(f\"Error: {e}\")  # Output: No active transaction\n",
    "\n",
    "# 3. Starts a new transaction\n",
    "db.begin_transaction()\n",
    "\n",
    "# 4. Set value of 'A' to 5, but it's not committed yet\n",
    "db.put(\"A\", 5)\n",
    "\n",
    "# 5. Should return None, because updates to 'A' are not committed yet\n",
    "print(db.get(\"A\"))  # Output: None\n",
    "\n",
    "# 6. Update 'A's value to 6 within the transaction\n",
    "db.put(\"A\", 6)\n",
    "\n",
    "# 7. Commit the open transaction\n",
    "db.commit()\n",
    "\n",
    "# 8. Should return 6, that was the last value of 'A' to be committed\n",
    "print(db.get(\"A\"))  # Output: 6\n",
    "\n",
    "try:\n",
    "    # 9. Throws an error, because there is no open transaction\n",
    "    db.commit()\n",
    "except Exception as e:\n",
    "    print(f\"Error: {e}\")  # Output: No active transaction\n",
    "\n",
    "try:\n",
    "    # 10. Throws an error because there is no ongoing transaction\n",
    "    db.rollback()\n",
    "except Exception as e:\n",
    "    print(f\"Error: {e}\")  # Output: No active transaction\n",
    "\n",
    "# 11. Should return None because 'B' does not exist in the database\n",
    "print(db.get(\"B\"))  # Output: None\n",
    "\n",
    "# 12. Starts a new transaction\n",
    "db.begin_transaction()\n",
    "\n",
    "# 13. Set key 'B's value to 10 within the transaction\n",
    "db.put(\"B\", 10)\n",
    "\n",
    "# 14. Rollback the transaction - revert any changes made to 'B'\n",
    "db.rollback()\n",
    "\n",
    "# 15. Should return None because changes to 'B' were rolled back\n",
    "print(db.get(\"B\"))  # Output: None\n"
   ]
  },
  {
   "cell_type": "markdown",
   "metadata": {},
   "source": [
    " **Successful Test Case: Multi-Step Workflow**  \n",
    "    Steps:\n",
    "1. Begin Transaction.\n",
    "2. Add A = 1.\n",
    "3. Add B = 2.\n",
    "4. Add C = 3.\n",
    "5. Commit the transaction.\n",
    "6. Retrieve values for A, B, and C.\n",
    "7. Attempt to retrieve a non-existent key K.\n",
    "\n",
    "Expected Outputs:\n",
    "\n",
    " Step 1: Transaction starts successfully.       \n",
    " Step 5: Commit successful.     \n",
    " Step 6:    \n",
    " Get A: Returns 1.  \n",
    " Get B: Returns 2.  \n",
    " Get C: Returns 3.      \n",
    " Step 7: Get K: \"K does not exist.\"     "
   ]
  },
  {
   "cell_type": "code",
   "execution_count": 4,
   "metadata": {},
   "outputs": [
    {
     "name": "stdout",
     "output_type": "stream",
     "text": [
      "A = 1\n",
      "B = 2\n",
      "C = 3\n",
      "K does not exist\n"
     ]
    }
   ],
   "source": [
    "from in_memory_db import InMemoryDB\n",
    "\n",
    "db = InMemoryDB()\n",
    "\n",
    "# Step 1: Begin Transaction\n",
    "db.begin_transaction()\n",
    "\n",
    "# Step 2: Add key-value pairs\n",
    "db.put(\"A\", 1)\n",
    "db.put(\"B\", 2)\n",
    "db.put(\"C\", 3)\n",
    "\n",
    "# Step 3: Commit the transaction\n",
    "db.commit()\n",
    "\n",
    "# Step 4: Retrieve values\n",
    "print(db.get(\"A\"))  # Output: 1\n",
    "print(db.get(\"B\"))  # Output: 2\n",
    "print(db.get(\"C\"))  # Output: 3\n",
    "\n",
    "# Step 5: Attempt to retrieve non-existent key\n",
    "print(db.get(\"K\"))  # Output: None (or \"K does not exist\")\n"
   ]
  },
  {
   "cell_type": "markdown",
   "metadata": {},
   "source": [
    " **Failing Test Case: Committing Without Putting Anything**\n",
    " Steps:\n",
    "\n",
    "1. Begin Transaction.\n",
    "2. Commit the transaction without using Put.\n",
    "3. Attempt to retrieve any key, such as A.\n",
    "\n",
    "Expected Outputs:   \n",
    "\n",
    " Step 1: Transaction starts successfully.   \n",
    " Step 2: Commit successful, but no changes were made.   \n",
    " Step 3: Get A: Returns None.   "
   ]
  },
  {
   "cell_type": "code",
   "execution_count": 5,
   "metadata": {},
   "outputs": [
    {
     "name": "stdout",
     "output_type": "stream",
     "text": [
      "A does not exist\n"
     ]
    }
   ],
   "source": [
    "db = InMemoryDB()\n",
    "\n",
    "# Step 1: Begin Transaction\n",
    "db.begin_transaction()\n",
    "\n",
    "# Step 2: Commit without putting anything\n",
    "db.commit()\n",
    "\n",
    "# Step 3: Attempt to retrieve a key\n",
    "print(db.get(\"A\"))  # Output: None\n"
   ]
  },
  {
   "cell_type": "markdown",
   "metadata": {},
   "source": [
    " **Edge Case 1: Updating an Existing Key**      \n",
    " Steps:\n",
    "\n",
    "1. Begin Transaction.\n",
    "2. Add A = 1.\n",
    "3. Commit the transaction.\n",
    "4. Begin another transaction.\n",
    "5. Update A to 10.\n",
    "6. Commit the transaction.\n",
    "7. Retrieve the value of A.\n",
    "\n",
    "Expected Outputs:\n",
    "\n",
    " Step 2: Add successful.    \n",
    " Step 3: Commit successful.     \n",
    " Step 5: Update successful.     \n",
    " Step 6: Commit successful.     \n",
    " Step 7: Get A: Returns 10.     "
   ]
  },
  {
   "cell_type": "code",
   "execution_count": 6,
   "metadata": {},
   "outputs": [
    {
     "name": "stdout",
     "output_type": "stream",
     "text": [
      "A = 10\n"
     ]
    }
   ],
   "source": [
    "db = InMemoryDB()\n",
    "\n",
    "# Step 1: Begin Transaction\n",
    "db.begin_transaction()\n",
    "\n",
    "# Step 2: Add key-value pair\n",
    "db.put(\"A\", 1)\n",
    "\n",
    "# Step 3: Commit\n",
    "db.commit()\n",
    "\n",
    "# Step 4: Begin another transaction and update\n",
    "db.begin_transaction()\n",
    "db.put(\"A\", 10)\n",
    "\n",
    "# Step 5: Commit\n",
    "db.commit()\n",
    "\n",
    "# Step 6: Retrieve the updated value\n",
    "print(db.get(\"A\"))  # Output: 10\n"
   ]
  },
  {
   "cell_type": "markdown",
   "metadata": {},
   "source": [
    " **Edge Case 2: Adding Duplicate Keys in a Transaction**       \n",
    " Steps: \n",
    "\n",
    "1. Begin Transaction.\n",
    "2. Add A = 1.\n",
    "3. Add A = 5 again within the same transaction.\n",
    "4. Commit the transaction.\n",
    "5. Retrieve the value of A.\n",
    "\n",
    "Expected Outputs:   \n",
    "\n",
    " Step 2: Add successful.       \n",
    " Step 3: Update within the transaction.     \n",
    " Step 4: Commit successful.     \n",
    " Step 5: Get A: Returns 5 (last update within the transaction).     "
   ]
  },
  {
   "cell_type": "code",
   "execution_count": 7,
   "metadata": {},
   "outputs": [
    {
     "name": "stdout",
     "output_type": "stream",
     "text": [
      "A = 5\n"
     ]
    }
   ],
   "source": [
    "db = InMemoryDB()\n",
    "\n",
    "# Step 1: Begin Transaction\n",
    "db.begin_transaction()\n",
    "\n",
    "# Step 2: Add duplicate keys\n",
    "db.put(\"A\", 1)\n",
    "db.put(\"A\", 5)\n",
    "\n",
    "# Step 3: Commit\n",
    "db.commit()\n",
    "\n",
    "# Step 4: Retrieve the value\n",
    "print(db.get(\"A\"))  # Output: 5"
   ]
  }
 ],
 "metadata": {
  "kernelspec": {
   "display_name": "Python 3",
   "language": "python",
   "name": "python3"
  },
  "language_info": {
   "codemirror_mode": {
    "name": "ipython",
    "version": 3
   },
   "file_extension": ".py",
   "mimetype": "text/x-python",
   "name": "python",
   "nbconvert_exporter": "python",
   "pygments_lexer": "ipython3",
   "version": "3.11.2"
  }
 },
 "nbformat": 4,
 "nbformat_minor": 2
}
